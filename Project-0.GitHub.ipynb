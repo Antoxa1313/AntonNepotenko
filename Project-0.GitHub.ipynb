{
 "cells": [
  {
   "cell_type": "code",
   "execution_count": 1,
   "metadata": {},
   "outputs": [
    {
     "name": "stdout",
     "output_type": "stream",
     "text": [
      "Загадано число от 1 до 100\n",
      "Вы угадали число 6 за 4 попыток.\n"
     ]
    }
   ],
   "source": [
    "import numpy as np\n",
    "count = 0                            # счетчик попыток\n",
    "min, max = 1,100                     # создаём переменные с граничными значениями диапазона\n",
    "number = np.random.randint(1,101)    # загадали число\n",
    "print (\"Загадано число от 1 до 100\")\n",
    "\n",
    "while True:                        # бесконечный цикл\n",
    "    count += 1                     # плюсуем попытку\n",
    "    middle=(max + min)//2          # ищем середину диапазона\n",
    "    if number > middle:            # создаем вложенный цикл \n",
    "        min=middle + 1             # новое значение min\n",
    "    elif number < middle:\n",
    "        max = middle - 1           # новое значение max\n",
    "    else:\n",
    "        if number == middle:\n",
    "            break                  # выход из цикла\n",
    "print (f\"Вы угадали число {number} за {count} попыток.\")"
   ]
  },
  {
   "cell_type": "code",
   "execution_count": null,
   "metadata": {},
   "outputs": [],
   "source": []
  }
 ],
 "metadata": {
  "kernelspec": {
   "display_name": "Python 3",
   "language": "python",
   "name": "python3"
  },
  "language_info": {
   "codemirror_mode": {
    "name": "ipython",
    "version": 3
   },
   "file_extension": ".py",
   "mimetype": "text/x-python",
   "name": "python",
   "nbconvert_exporter": "python",
   "pygments_lexer": "ipython3",
   "version": "3.8.3"
  }
 },
 "nbformat": 4,
 "nbformat_minor": 4
}
